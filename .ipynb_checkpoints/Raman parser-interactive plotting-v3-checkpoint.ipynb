{
 "cells": [
  {
   "cell_type": "code",
   "execution_count": 27,
   "metadata": {},
   "outputs": [],
   "source": [
    "from ipywidgets import interact, interactive, IntSlider, Layout, interact_manual\n",
    "import ipywidgets as widgets\n",
    "from IPython.display import display\n",
    "\n",
    "import numpy as np\n",
    "import pandas as pd\n",
    "import mpld3\n",
    "mpld3.enable_notebook()\n",
    "\n",
    "import matplotlib.pyplot as plt\n",
    "#%matplotlib inline\n",
    "\n",
    "import glob\n",
    "\n"
   ]
  },
  {
   "cell_type": "code",
   "execution_count": 28,
   "metadata": {},
   "outputs": [],
   "source": [
    "def load_dflist_txt(txt_namelist):\n",
    "    return [pd.read_csv(filename, sep='\\t', header=None, names = [\"Raman shift, cm^{-1}\",  filename[:len(filename)-4]])\n",
    "            for filename in txt_namelist]\n",
    "    \n",
    "def load_dflist_hdfs(size, file_name_ptrn='G:/big data Raman/hfcvd/data_{:02}.h5', **kwarg):\n",
    "    dflist = []\n",
    "    for i in range(size):\n",
    "        dflist.append(pd.read_hdf(file_name_ptrn.format(i+1), 'df{:02d}'.format(i+1), **kwarg))\n",
    "#         df.to_hdf(file_name_ptrn.format(i+1), 'df{:02d}'.format(i+1), **kwarg)\n",
    "    return dflist\n",
    "\n",
    "def load_dflist_single_hdfs(size, file_name='G:/big data Raman/hfcvd/data.h5', **kwarg):\n",
    "    dflist = []\n",
    "    for i in range(size):\n",
    "        dflist.append(pd.read_hdf(file_name, 'df{:02d}'.format(i+1), **kwarg))\n",
    "#         df.to_hdf(file_name_ptrn.format(i+1), 'df{:02d}'.format(i+1), **kwarg)\n",
    "    return dflist\n",
    "\n",
    "def save_dflist_hdfs(dflist, file_name_ptrn='G:/big data Raman/hfcvd/data_{:02}.h5', **kwarg):\n",
    "    for i, df in enumerate(dflist):\n",
    "        df.to_hdf(file_name_ptrn.format(i+1), 'df{:02d}'.format(i+1), **kwarg)\n",
    "    return len(dflist)  \n",
    "\n",
    "def save_dflist_single_hdfs(dflist, file_name='Raman_Granit.h5', **kwarg):\n",
    "    for i, df in enumerate(dflist):\n",
    "        df.to_hdf(file_name, 'df_key{:02d}'.format(i+1), **kwarg)\n",
    "    return len(dflist)  "
   ]
  },
  {
   "cell_type": "code",
   "execution_count": 29,
   "metadata": {},
   "outputs": [
    {
     "name": "stdout",
     "output_type": "stream",
     "text": [
      "8\n",
      "8\n"
     ]
    }
   ],
   "source": [
    "txt_namelist = glob.glob(\"scanme/*.txt\")\n",
    "print(len(txt_namelist))\n",
    "dflist = load_dflist_txt(txt_namelist)\n",
    "print(len(dflist))"
   ]
  },
  {
   "cell_type": "code",
   "execution_count": 30,
   "metadata": {},
   "outputs": [
    {
     "data": {
      "text/html": [
       "<div>\n",
       "<style scoped>\n",
       "    .dataframe tbody tr th:only-of-type {\n",
       "        vertical-align: middle;\n",
       "    }\n",
       "\n",
       "    .dataframe tbody tr th {\n",
       "        vertical-align: top;\n",
       "    }\n",
       "\n",
       "    .dataframe thead th {\n",
       "        text-align: right;\n",
       "    }\n",
       "</style>\n",
       "<table border=\"1\" class=\"dataframe\">\n",
       "  <thead>\n",
       "    <tr style=\"text-align: right;\">\n",
       "      <th></th>\n",
       "      <th>Raman shift, cm^{-1}</th>\n",
       "      <th>scanme\\1 (6)</th>\n",
       "    </tr>\n",
       "  </thead>\n",
       "  <tbody>\n",
       "    <tr>\n",
       "      <th>0</th>\n",
       "      <td>1000.0</td>\n",
       "      <td>4188</td>\n",
       "    </tr>\n",
       "    <tr>\n",
       "      <th>1</th>\n",
       "      <td>1000.2</td>\n",
       "      <td>4106</td>\n",
       "    </tr>\n",
       "    <tr>\n",
       "      <th>2</th>\n",
       "      <td>1000.4</td>\n",
       "      <td>4201</td>\n",
       "    </tr>\n",
       "    <tr>\n",
       "      <th>3</th>\n",
       "      <td>1000.6</td>\n",
       "      <td>3952</td>\n",
       "    </tr>\n",
       "    <tr>\n",
       "      <th>4</th>\n",
       "      <td>1000.8</td>\n",
       "      <td>4275</td>\n",
       "    </tr>\n",
       "  </tbody>\n",
       "</table>\n",
       "</div>"
      ],
      "text/plain": [
       "   Raman shift, cm^{-1}  scanme\\1 (6)\n",
       "0                1000.0          4188\n",
       "1                1000.2          4106\n",
       "2                1000.4          4201\n",
       "3                1000.6          3952\n",
       "4                1000.8          4275"
      ]
     },
     "execution_count": 30,
     "metadata": {},
     "output_type": "execute_result"
    }
   ],
   "source": [
    "colorlist = [(102/255, 94/255, 252/255), #blue, \n",
    "             (255/255, 175/255, 43/255), #orange, \n",
    "             (255/255, 81/255, 152/255), #magenta, \n",
    "             (0, 179/255, 0),            #green, \n",
    "             (59/255, 217/255, 233/255), #cyan, \n",
    "             (188/255, 0, 188/255),      #purple\n",
    "             (210/255,105/255,30/255),      #chocolate\n",
    "             (220/255,20/255,60/255), #crimson\n",
    "             (255/255,215/255,0), #gold\n",
    "             (65/255,105/255,0), #royalblue\n",
    "             (75/255,0, 130/255), #indigo\n",
    "             (135/255,206/255, 250/255) #lightskyblue\n",
    "            ]  \n",
    "dflist[5].head()"
   ]
  },
  {
   "cell_type": "code",
   "execution_count": 31,
   "metadata": {},
   "outputs": [],
   "source": [
    "def multi_plot(number_per_figure, \n",
    "               G = False,\n",
    "               D=False,\n",
    "               twoD=False,\n",
    "               Diamond = False,\n",
    "               Si = False,\n",
    "               normMax = False):\n",
    "    size = (14,5)\n",
    "    int(len(df_list)/number_per_figure)\n",
    "    plt.figure(figsize  = size)\n",
    "    for k in range(int(len(df_list)/number_per_figure)):\n",
    "        \n",
    "        ax = plt.gca()\n",
    "        ax.set(ylabel='Intensity, a.u.')\n",
    "        ax.set(xlabel=r'Raman shift, cm$^{-1}$')\n",
    "        \n",
    "        if G : plt.plot([1580,1580], [0,1000*((-1+1/1000)*normMax+1)],  color=colorlist[1], linewidth = 1) #G-line\n",
    "        if D : plt.plot([1350,1350], [0,1000*((-1+1/1000)*normMax+1)], color=colorlist[2], linewidth = 1) #D-line\n",
    "        if twoD : plt.plot([2700,2700], [0,1000*((-1+1/1000)*normMax+1)], color=colorlist[3], linewidth = 1) #2D-line\n",
    "        if Diamond : plt.plot([1333,1333], [0,1000*((-1+1/1000)*normMax+1)], color=colorlist[4], linewidth = 1) #Diamond-line\n",
    "        if Si : plt.plot([972,972], [0,1000*((-1+1/1000)*normMax+1)], color=colorlist[5], linewidth = 1) #Si-line\n",
    "        if Si : plt.plot([520,520], [0,1000*((-1+1/1000)*normMax+1)], color=colorlist[5], linewidth = 1) #Si-line  \n",
    "        # ax.annotate('local max', xy=(2, 1), xytext=(3, 1.5), arrowprops=dict(facecolor='black', shrink=0.05))\n",
    "        for n in range(number_per_figure):\n",
    "#         (-1+1/df_list[k*number_per_figure + n].iloc[:,1].max())*normMax + 1 instead df_list[k*number_per_figure + n].iloc[:,1]\n",
    "            plt.plot(df_list[k*number_per_figure + n].iloc[:,0], df_list[k*number_per_figure + n].iloc[:,1].multiply((-1+1/df_list[k*number_per_figure + n].iloc[:,1].max())*normMax+1),\n",
    "                     label = df_list[k*number_per_figure + n].columns[1] + \"_\" + str(k*number_per_figure + n),\n",
    "                     color=colorlist[(k*number_per_figure + n)%len(colorlist)])\n",
    "        ax.legend(loc='upper center', bbox_to_anchor=(1.01, 1.05), ncol=1, fancybox=True, shadow=True, title = \"File_name and index in list\")\n",
    "        plt.figure(figsize  = size)\n",
    "    \n",
    "    \n",
    "    for k in range(len(df_list)%number_per_figure):\n",
    "#         df_list[-1-k].plot()\n",
    "        \n",
    "        ax = plt.gca()\n",
    "        ax.set(ylabel='Intensity, a.u.')\n",
    "        ax.set(xlabel=r'Raman shift, cm$^{-1}$')\n",
    "        \n",
    "        if G : plt.plot([1580,1580], [0,1000*((-1+1/1000)*normMax+1)],  color=colorlist[1], linewidth = 1) #G-line\n",
    "        if D : plt.plot([1350,1350], [0,1000*((-1+1/1000)*normMax+1)], color=colorlist[2], linewidth = 1) #D-line\n",
    "        if twoD : plt.plot([2700,2700], [0,1000*((-1+1/1000)*normMax+1)], color=colorlist[3], linewidth = 1) #2D-line\n",
    "        if Diamond : plt.plot([1333,1333], [0,1000*((-1+1/1000)*normMax+1)], color=colorlist[4], linewidth = 1) #Diamond-line\n",
    "        if Si : plt.plot([972,972], [0,1000*((-1+1/1000)*normMax+1)], color=colorlist[5], linewidth = 1) #Si-line\n",
    "        if Si : plt.plot([520,520], [0,1000*((-1+1/1000)*normMax+1)], color=colorlist[5], linewidth = 1) #Si-line \n",
    "#         (-1+1/df_list[-1-k].iloc[:,1].max())*normMax + 1 instead df_list[-1-k].iloc[:,1]\n",
    "        plt.plot(df_list[-1-k].iloc[:,0], df_list[-1-k].iloc[:,1].multiply((-1+1/df_list[-1-k].iloc[:,1].max())*normMax+1), label = df_list[-1-k].columns[1] + \"_\" + str(-1-k),\n",
    "                 color=colorlist[k%len(colorlist)],\n",
    "                linewidth = 1.)\n",
    "        ax.legend(loc='upper center', bbox_to_anchor=(1.01, 1.05), ncol=1, fancybox=True, shadow=True, title=\"File_name and index in list\")\n",
    "        \n",
    "    plt.grid(True)\n",
    "    \n",
    "    plt.show()\n"
   ]
  },
  {
   "cell_type": "code",
   "execution_count": 32,
   "metadata": {},
   "outputs": [
    {
     "name": "stdout",
     "output_type": "stream",
     "text": [
      "Total number of spectra:  8\n",
      "Total number of spectra for analize:  8\n"
     ]
    }
   ],
   "source": [
    "df_list = dflist[::-1]\n",
    "print(\"Total number of spectra: \", len(dflist))\n",
    "print(\"Total number of spectra for analize: \", len(df_list))"
   ]
  },
  {
   "cell_type": "code",
   "execution_count": 33,
   "metadata": {},
   "outputs": [
    {
     "data": {
      "application/vnd.jupyter.widget-view+json": {
       "model_id": "fc6c06f06a624924bb59346e362d1ee1",
       "version_major": 2,
       "version_minor": 0
      },
      "text/plain": [
       "interactive(children=(IntSlider(value=10, description='number_per_figure', max=10, min=1), Checkbox(value=Fals…"
      ]
     },
     "metadata": {},
     "output_type": "display_data"
    },
    {
     "data": {
      "text/plain": [
       "<function __main__.multi_plot(number_per_figure, G=False, D=False, twoD=False, Diamond=False, Si=False, normMax=False)>"
      ]
     },
     "execution_count": 33,
     "metadata": {},
     "output_type": "execute_result"
    }
   ],
   "source": [
    "mpld3.enable_notebook()\n",
    "interact_manual(multi_plot, \n",
    "                number_per_figure=widgets.IntSlider(min=1,max=10,step=1,value=10),\n",
    "                G = widgets.Checkbox(value=False, description='G line 1580', disabled=False),\n",
    "                D = widgets.Checkbox(value=False, description='D line 1350', disabled=False),\n",
    "                twoD = widgets.Checkbox(value=False, description='2D line 2700', disabled=False),\n",
    "                Diamond = widgets.Checkbox(value=False, description='Diamond line 1333', disabled=False),\n",
    "                Si = widgets.Checkbox(value=False, description='Si line 520', disabled=False),\n",
    "                normMax = widgets.Checkbox(value=False, description='Devide by MaxIntens', disabled=False))"
   ]
  },
  {
   "cell_type": "code",
   "execution_count": null,
   "metadata": {
    "collapsed": true
   },
   "outputs": [],
   "source": []
  },
  {
   "cell_type": "code",
   "execution_count": null,
   "metadata": {
    "collapsed": true
   },
   "outputs": [],
   "source": []
  },
  {
   "cell_type": "code",
   "execution_count": null,
   "metadata": {
    "collapsed": true
   },
   "outputs": [],
   "source": []
  },
  {
   "cell_type": "code",
   "execution_count": null,
   "metadata": {
    "collapsed": true
   },
   "outputs": [],
   "source": []
  },
  {
   "cell_type": "code",
   "execution_count": null,
   "metadata": {},
   "outputs": [],
   "source": [
    "dflist = load_dflist_hdfs(len(h5_namelist))\n",
    "# https://stackoverflow.com/questions/40247963/create-different-pickle-files-iterating-a-list-of-dataframes"
   ]
  },
  {
   "cell_type": "code",
   "execution_count": null,
   "metadata": {},
   "outputs": [],
   "source": [
    "   \n",
    "dflist[19].head()"
   ]
  },
  {
   "cell_type": "markdown",
   "metadata": {},
   "source": [
    "<font color = \"red\" size = \"5\"> We had some problems with l[19] (a319.txt) and l[368] (a690.txt) </font>\n",
    "\n"
   ]
  },
  {
   "cell_type": "code",
   "execution_count": null,
   "metadata": {},
   "outputs": [],
   "source": [
    "## Remove problem spectra\n",
    "del dflist[19]\n",
    "dflist[19].head()\n"
   ]
  },
  {
   "cell_type": "code",
   "execution_count": null,
   "metadata": {},
   "outputs": [],
   "source": [
    "## Remove problem spectra\n",
    "del dflist[367]\n",
    "dflist[367].head()"
   ]
  },
  {
   "cell_type": "code",
   "execution_count": null,
   "metadata": {},
   "outputs": [],
   "source": [
    "# For testing\n",
    "my_df = pd.DataFrame(np.array([i for i in range(20)]).reshape(10,2))\n",
    "df_list = [my_df for i in range(10)]\n"
   ]
  },
  {
   "cell_type": "markdown",
   "metadata": {},
   "source": [
    "## Start selection"
   ]
  },
  {
   "cell_type": "code",
   "execution_count": null,
   "metadata": {},
   "outputs": [],
   "source": [
    "# df_list = dflist[:50] # Analyze first 50 spectra\n",
    "# df_list = dflist[50:100] # Analyze second 50 spectra\n",
    "# df_list = dflist[100:150] # Analyze next 50 spectra\n",
    "# df_list = dflist[150:200] # Analyze next 50 spectra\n",
    "# df_list = dflist[200:250] # Analyze next 50 spectra\n",
    "# df_list = dflist[250:300] # Analyze next 50 spectra\n",
    "# df_list = dflist[300:350] # Analyze next 50 spectra\n",
    "# df_list = dflist[350:400] # Analyze next 50 spectra\n",
    "# df_list = dflist[400:450] # Analyze next 50 spectra\n",
    "# df_list = dflist[450:len(dflist)] # Analyze remaining\n",
    "df_list = dflist[:]\n",
    "print(\"Total number of spectra: \", len(dflist))\n",
    "print(\"Total number of spectra for analize: \", len(df_list))"
   ]
  },
  {
   "cell_type": "code",
   "execution_count": null,
   "metadata": {},
   "outputs": [],
   "source": []
  },
  {
   "cell_type": "code",
   "execution_count": null,
   "metadata": {},
   "outputs": [],
   "source": [
    "interact_manual(multi_plot, \n",
    "                number_per_figure=widgets.IntSlider(min=1,max=10,step=1,value=10),\n",
    "                G = widgets.Checkbox(value=False, description='G line 1580', disabled=False),\n",
    "                D = widgets.Checkbox(value=False, description='D line 1350', disabled=False),\n",
    "                twoD = widgets.Checkbox(value=False, description='2D line 2700', disabled=False),\n",
    "                Diamond = widgets.Checkbox(value=False, description='Diamond line 1333', disabled=False),\n",
    "                Si = widgets.Checkbox(value=False, description='Si line 520', disabled=False),\n",
    "                normMax = widgets.Checkbox(value=False, description='Devide by MaxIntens', disabled=False))\n",
    "               \n"
   ]
  },
  {
   "cell_type": "markdown",
   "metadata": {},
   "source": [
    "<font color = \"red\" size = \"5\"> Some part of previous version </font>\n",
    "\n"
   ]
  },
  {
   "cell_type": "code",
   "execution_count": null,
   "metadata": {},
   "outputs": [],
   "source": [
    "my_dir = \"scanme\"\n",
    "namelist = glob.glob(my_dir+\"/*.txt\")\n",
    "\n",
    "l = [pd.read_csv(filename, sep='\\t', header=None, names = [\"Raman shift, cm^{-1}\",  filename[len(my_dir)+1:len(filename)-4]]) for filename in namelist]\n",
    "\n",
    "# ************** Make niceLook and dynamic pick *******************\n",
    "colorlist = [(102/255, 94/255, 252/255), #blue, \n",
    "             (255/255, 175/255, 43/255), #orange, \n",
    "             (255/255, 81/255, 152/255), #magenta, \n",
    "             (0, 179/255, 0),            #green, \n",
    "             (59/255, 217/255, 233/255), #cyan, \n",
    "             (188/255, 0, 188/255),      #purple\n",
    "             (210/255,105/255,30/255),      #chocolate\n",
    "             (220/255,20/255,60/255), #crimson\n",
    "             (255/255,215/255,0), #gold\n",
    "             (65/255,105/255,0), #royalblue\n",
    "             (75/255,0, 130/255), #indigo\n",
    "             (135/255,206/255, 250/255) #lightskyblue\n",
    "            ]     \n",
    "\n",
    "\n",
    "fig, ax = plt.subplots()\n",
    "\n",
    "ax.set(ylabel='Intensity, a.u.')\n",
    "\n",
    "plt.axvline(x=1580, picker=1) #G-line\n",
    "plt.axvline(x=1350, picker=2) #D-line\n",
    "plt.axvline(x=2700, picker=3) #2D-line\n",
    "plt.axvline(x=1333, picker=4) #Dimaond-line\n",
    "plt.axvline(x=972, picker=5) #Si-line (one more is 520)\n",
    "# ax.annotate('local max', xy=(2, 1), xytext=(3, 1.5), arrowprops=dict(facecolor='black', shrink=0.05))\n",
    "\n",
    "for a in range(len(l)):\n",
    "    l[a].plot(ax=ax, subplots=True, x='Raman shift, cm^{-1}', ms=10, lw=2, alpha=0.7, color=colorlist[a%len(colorlist)])\n",
    "\n",
    "\n",
    "\n",
    "plt.legend(loc=\"upper right\")\n",
    "plt.title(\"Raman spectra from parced files\")\n",
    "ax.set_xlabel('Raman shift, cm$^{-1}$')\n",
    "ax.grid(True)\n",
    "ax.legend(loc='upper center', bbox_to_anchor=(1.5, 1.05),\n",
    "          ncol=3, fancybox=True, shadow=True)\n",
    "\n",
    "print(namelist, \"\\n Number of parsed spectra: \" + str(len(namelist)))\n",
    "plt.show()\n",
    "\n"
   ]
  },
  {
   "cell_type": "code",
   "execution_count": null,
   "metadata": {},
   "outputs": [],
   "source": []
  },
  {
   "cell_type": "code",
   "execution_count": null,
   "metadata": {},
   "outputs": [],
   "source": [
    "save_dflist_hdfs(l, r'G:/big data Raman/hfcvd/data_{:02}.h5', format='t',\n",
    "                 complib='blosc', complevel=5)"
   ]
  },
  {
   "cell_type": "markdown",
   "metadata": {},
   "source": [
    "<font color = \"red\" size = \"5\"> We had some problems with l[19] (a319.txt) and l[368] (a690.txt) </font>\n",
    "\n"
   ]
  },
  {
   "cell_type": "code",
   "execution_count": null,
   "metadata": {},
   "outputs": [],
   "source": [
    "l[19].head(1)"
   ]
  },
  {
   "cell_type": "code",
   "execution_count": null,
   "metadata": {},
   "outputs": [],
   "source": [
    "ax = l[3].plot(x = \"Raman shift, cm^{-1}\")\n",
    "plt.axvline(x=1580, picker=1) #G-line\n",
    "plt.axvline(x=1350, picker=2) #D-line\n",
    "plt.axvline(x=2700, picker=3) #2D-line\n",
    "plt.axvline(x=1333, picker=4) #Dimaond-line\n",
    "plt.axvline(x=972, picker=5) #Si-line (one more is 520)\n",
    "ax.set_xlabel('Raman shift, cm$^{-1}$')\n",
    "# https://matplotlib.org/gallery/text_labels_and_annotations/annotation_demo.html#sphx-glr-gallery-text-labels-and-annotations-annotation-demo-py\n",
    "ax.annotate('angle3,\\nangle -90',\n",
    "            xy=(2.5, -1), xycoords='data',\n",
    "            xytext=(-80, -60), textcoords='offset points',\n",
    "            arrowprops=dict(arrowstyle=\"->\",\n",
    "                            connectionstyle=\"angle3,angleA=0,angleB=-90\"))"
   ]
  },
  {
   "cell_type": "code",
   "execution_count": null,
   "metadata": {
    "collapsed": true
   },
   "outputs": [],
   "source": []
  }
 ],
 "metadata": {
  "anaconda-cloud": {},
  "kernelspec": {
   "display_name": "Python 3",
   "language": "python",
   "name": "python3"
  },
  "language_info": {
   "codemirror_mode": {
    "name": "ipython",
    "version": 3
   },
   "file_extension": ".py",
   "mimetype": "text/x-python",
   "name": "python",
   "nbconvert_exporter": "python",
   "pygments_lexer": "ipython3",
   "version": "3.8.8"
  },
  "widgets": {
   "state": {
    "a74ad02db17d4a879dbebcd08eabdf83": {
     "views": [
      {
       "cell_index": 6
      }
     ]
    }
   },
   "version": "1.2.0"
  }
 },
 "nbformat": 4,
 "nbformat_minor": 1
}
